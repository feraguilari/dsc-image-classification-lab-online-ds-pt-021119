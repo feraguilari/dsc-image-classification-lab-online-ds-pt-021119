{
 "cells": [
  {
   "cell_type": "markdown",
   "metadata": {},
   "source": [
    "# Image Classification - Lab\n",
    "\n",
    "## Introduction\n",
    "\n",
    "Now that you have a working knowledge of CNNs and have practiced implementing associated techniques in Keras, its time to put all of those skills together. In this lab, you'll work to complete a Kaggle competition on classifying dog breeds.\n",
    "\n",
    "https://www.kaggle.com/c/dog-breed-identification\n",
    "\n",
    "## Objectives\n",
    "\n",
    "You will be able to:\n",
    "* Independently design and build a CNN for image classifcation tasks\n",
    "* Compare and apply multiple techniques for tuning a model including data augmentation and adapting pretrained models"
   ]
  },
  {
   "cell_type": "markdown",
   "metadata": {},
   "source": [
    "## Download and Load the Data\n",
    "\n",
    "Start by downloading the data locally and loading it into a Pandas DataFrame. Be forewarned that this dataset is fairly large and it is advisable to close other memory intensive applications.\n",
    "\n",
    "The data can be found here:\n",
    "\n",
    "https://www.kaggle.com/c/dog-breed-identification/data\n",
    "\n",
    "It's easiest if you download the data into this directory on your local computer. From there, be sure to uncompress the folder and subfolders. If you download the data elsewhere, be sure to modify the file path when importing the file below."
   ]
  },
  {
   "cell_type": "code",
   "execution_count": 1,
   "metadata": {},
   "outputs": [],
   "source": [
    "# No code persay, but download and decompress the data."
   ]
  },
  {
   "cell_type": "markdown",
   "metadata": {},
   "source": [
    "## Preprocessing\n",
    "\n",
    "Now that you've downloaded the data, its time to prepare it for some model building! You'll notice that the current structure provided is not the same as our lovely preprocessed folders that you've been given to date. Instead, you have one large training folder with images and a csv file with labels associated with each of these file types. \n",
    "\n",
    "Use this to create a directory substructure for a train-validation-test split as we have done previously. Also recall that you'll also want to use one-hot encoding as you are now presented with a multi-class problem as opposed to simple binary classification."
   ]
  },
  {
   "cell_type": "code",
   "execution_count": 5,
   "metadata": {},
   "outputs": [
    {
     "data": {
      "text/html": [
       "<div>\n",
       "<style scoped>\n",
       "    .dataframe tbody tr th:only-of-type {\n",
       "        vertical-align: middle;\n",
       "    }\n",
       "\n",
       "    .dataframe tbody tr th {\n",
       "        vertical-align: top;\n",
       "    }\n",
       "\n",
       "    .dataframe thead th {\n",
       "        text-align: right;\n",
       "    }\n",
       "</style>\n",
       "<table border=\"1\" class=\"dataframe\">\n",
       "  <thead>\n",
       "    <tr style=\"text-align: right;\">\n",
       "      <th></th>\n",
       "      <th>id</th>\n",
       "      <th>breed</th>\n",
       "    </tr>\n",
       "  </thead>\n",
       "  <tbody>\n",
       "    <tr>\n",
       "      <th>0</th>\n",
       "      <td>000bec180eb18c7604dcecc8fe0dba07</td>\n",
       "      <td>boston_bull</td>\n",
       "    </tr>\n",
       "    <tr>\n",
       "      <th>1</th>\n",
       "      <td>001513dfcb2ffafc82cccf4d8bbaba97</td>\n",
       "      <td>dingo</td>\n",
       "    </tr>\n",
       "    <tr>\n",
       "      <th>2</th>\n",
       "      <td>001cdf01b096e06d78e9e5112d419397</td>\n",
       "      <td>pekinese</td>\n",
       "    </tr>\n",
       "    <tr>\n",
       "      <th>3</th>\n",
       "      <td>00214f311d5d2247d5dfe4fe24b2303d</td>\n",
       "      <td>bluetick</td>\n",
       "    </tr>\n",
       "    <tr>\n",
       "      <th>4</th>\n",
       "      <td>0021f9ceb3235effd7fcde7f7538ed62</td>\n",
       "      <td>golden_retriever</td>\n",
       "    </tr>\n",
       "  </tbody>\n",
       "</table>\n",
       "</div>"
      ],
      "text/plain": [
       "                                 id             breed\n",
       "0  000bec180eb18c7604dcecc8fe0dba07       boston_bull\n",
       "1  001513dfcb2ffafc82cccf4d8bbaba97             dingo\n",
       "2  001cdf01b096e06d78e9e5112d419397          pekinese\n",
       "3  00214f311d5d2247d5dfe4fe24b2303d          bluetick\n",
       "4  0021f9ceb3235effd7fcde7f7538ed62  golden_retriever"
      ]
     },
     "execution_count": 5,
     "metadata": {},
     "output_type": "execute_result"
    }
   ],
   "source": [
    "# Your code here; open the labels.csv file stored in the zip file\n",
    "import pandas as pd\n",
    "\n",
    "df = pd.read_csv('dog-breed-identification/labels.csv')\n",
    "df.head()"
   ]
  },
  {
   "cell_type": "markdown",
   "metadata": {},
   "source": [
    "We wish to create our standard directory structure:\n",
    "* train\n",
    "    * category1\n",
    "    * category2\n",
    "    * category3\n",
    "    ...\n",
    "* val\n",
    "    * category1\n",
    "    * category2\n",
    "    * category3\n",
    "    ...\n",
    "* test \n",
    "    * category1\n",
    "    * category2\n",
    "    * category3\n",
    "    ...  "
   ]
  },
  {
   "cell_type": "code",
   "execution_count": 8,
   "metadata": {},
   "outputs": [
    {
     "name": "stdout",
     "output_type": "stream",
     "text": [
      "Number of unique breeds:  120\n",
      "scottish_deerhound      126\n",
      "maltese_dog             117\n",
      "afghan_hound            116\n",
      "entlebucher             115\n",
      "bernese_mountain_dog    114\n",
      "shih-tzu                112\n",
      "pomeranian              111\n",
      "great_pyrenees          111\n",
      "basenji                 110\n",
      "samoyed                 109\n",
      "Name: breed, dtype: int64\n"
     ]
    }
   ],
   "source": [
    "print('Number of unique breeds: ', df.breed.nunique())\n",
    "print(df.breed.value_counts()[:10])"
   ]
  },
  {
   "cell_type": "code",
   "execution_count": 17,
   "metadata": {},
   "outputs": [
    {
     "name": "stdout",
     "output_type": "stream",
     "text": [
      "Moving boston_bull pictures.\n",
      "Split 87 images into 69 train, 9 val,9 test examples.\n",
      "Moving dingo pictures.\n",
      "Split 80 images into 64 train, 8 val,8 test examples.\n",
      "Moving pekinese pictures.\n",
      "Split 75 images into 60 train, 7 val,8 test examples.\n",
      "Moving bluetick pictures.\n",
      "Split 85 images into 68 train, 8 val,9 test examples.\n",
      "Moving golden_retriever pictures.\n",
      "Split 67 images into 53 train, 7 val,7 test examples.\n",
      "Moving bedlington_terrier pictures.\n",
      "Split 89 images into 71 train, 9 val,9 test examples.\n",
      "Moving borzoi pictures.\n",
      "Split 75 images into 60 train, 7 val,8 test examples.\n",
      "Moving basenji pictures.\n",
      "Split 110 images into 88 train, 11 val,11 test examples.\n",
      "Moving scottish_deerhound pictures.\n",
      "Split 126 images into 100 train, 13 val,13 test examples.\n",
      "Moving shetland_sheepdog pictures.\n",
      "Split 76 images into 60 train, 8 val,8 test examples.\n",
      "Moving walker_hound pictures.\n",
      "Split 69 images into 55 train, 7 val,7 test examples.\n",
      "Moving maltese_dog pictures.\n",
      "Split 117 images into 93 train, 12 val,12 test examples.\n",
      "Moving norfolk_terrier pictures.\n",
      "Split 83 images into 66 train, 8 val,9 test examples.\n",
      "Moving african_hunting_dog pictures.\n",
      "Split 86 images into 68 train, 9 val,9 test examples.\n",
      "Moving wire-haired_fox_terrier pictures.\n",
      "Split 82 images into 65 train, 8 val,9 test examples.\n",
      "Moving redbone pictures.\n",
      "Split 72 images into 57 train, 7 val,8 test examples.\n",
      "Moving lakeland_terrier pictures.\n",
      "Split 99 images into 79 train, 10 val,10 test examples.\n",
      "Moving boxer pictures.\n",
      "Split 75 images into 60 train, 7 val,8 test examples.\n",
      "Moving doberman pictures.\n",
      "Split 74 images into 59 train, 7 val,8 test examples.\n",
      "Moving otterhound pictures.\n",
      "Split 69 images into 55 train, 7 val,7 test examples.\n",
      "Moving standard_schnauzer pictures.\n",
      "Split 72 images into 57 train, 7 val,8 test examples.\n",
      "Moving irish_water_spaniel pictures.\n",
      "Split 78 images into 62 train, 8 val,8 test examples.\n",
      "Moving black-and-tan_coonhound pictures.\n",
      "Split 77 images into 61 train, 8 val,8 test examples.\n",
      "Moving cairn pictures.\n",
      "Split 106 images into 84 train, 11 val,11 test examples.\n",
      "Moving affenpinscher pictures.\n",
      "Split 80 images into 64 train, 8 val,8 test examples.\n",
      "Moving labrador_retriever pictures.\n",
      "Split 84 images into 67 train, 8 val,9 test examples.\n",
      "Moving ibizan_hound pictures.\n",
      "Split 91 images into 72 train, 9 val,10 test examples.\n",
      "Moving english_setter pictures.\n",
      "Split 83 images into 66 train, 8 val,9 test examples.\n",
      "Moving weimaraner pictures.\n",
      "Split 85 images into 68 train, 8 val,9 test examples.\n",
      "Moving giant_schnauzer pictures.\n",
      "Split 69 images into 55 train, 7 val,7 test examples.\n",
      "Moving groenendael pictures.\n",
      "Split 82 images into 65 train, 8 val,9 test examples.\n",
      "Moving dhole pictures.\n",
      "Split 76 images into 60 train, 8 val,8 test examples.\n",
      "Moving toy_poodle pictures.\n",
      "Split 80 images into 64 train, 8 val,8 test examples.\n",
      "Moving border_terrier pictures.\n",
      "Split 91 images into 72 train, 9 val,10 test examples.\n",
      "Moving tibetan_terrier pictures.\n",
      "Split 107 images into 85 train, 11 val,11 test examples.\n",
      "Moving norwegian_elkhound pictures.\n",
      "Split 95 images into 76 train, 9 val,10 test examples.\n",
      "Moving shih-tzu pictures.\n",
      "Split 112 images into 89 train, 11 val,12 test examples.\n",
      "Moving irish_terrier pictures.\n",
      "Split 82 images into 65 train, 8 val,9 test examples.\n",
      "Moving kuvasz pictures.\n",
      "Split 71 images into 56 train, 7 val,8 test examples.\n",
      "Moving german_shepherd pictures.\n",
      "Split 69 images into 55 train, 7 val,7 test examples.\n",
      "Moving greater_swiss_mountain_dog pictures.\n",
      "Split 82 images into 65 train, 8 val,9 test examples.\n",
      "Moving basset pictures.\n",
      "Split 82 images into 65 train, 8 val,9 test examples.\n",
      "Moving australian_terrier pictures.\n",
      "Split 102 images into 81 train, 10 val,11 test examples.\n",
      "Moving schipperke pictures.\n",
      "Split 86 images into 68 train, 9 val,9 test examples.\n",
      "Moving rhodesian_ridgeback pictures.\n",
      "Split 88 images into 70 train, 9 val,9 test examples.\n",
      "Moving irish_setter pictures.\n",
      "Split 88 images into 70 train, 9 val,9 test examples.\n",
      "Moving appenzeller pictures.\n",
      "Split 78 images into 62 train, 8 val,8 test examples.\n",
      "Moving bloodhound pictures.\n",
      "Split 85 images into 68 train, 8 val,9 test examples.\n",
      "Moving samoyed pictures.\n",
      "Split 109 images into 87 train, 11 val,11 test examples.\n",
      "Moving miniature_schnauzer pictures.\n",
      "Split 78 images into 62 train, 8 val,8 test examples.\n",
      "Moving brittany_spaniel pictures.\n",
      "Split 73 images into 58 train, 7 val,8 test examples.\n",
      "Moving kelpie pictures.\n",
      "Split 86 images into 68 train, 9 val,9 test examples.\n",
      "Moving papillon pictures.\n",
      "Split 96 images into 76 train, 10 val,10 test examples.\n",
      "Moving border_collie pictures.\n",
      "Split 72 images into 57 train, 7 val,8 test examples.\n",
      "Moving entlebucher pictures.\n",
      "Split 115 images into 92 train, 11 val,12 test examples.\n",
      "Moving collie pictures.\n",
      "Split 87 images into 69 train, 9 val,9 test examples.\n",
      "Moving malamute pictures.\n",
      "Split 81 images into 64 train, 8 val,9 test examples.\n",
      "Moving welsh_springer_spaniel pictures.\n",
      "Split 79 images into 63 train, 8 val,8 test examples.\n",
      "Moving chihuahua pictures.\n",
      "Split 71 images into 56 train, 7 val,8 test examples.\n",
      "Moving saluki pictures.\n",
      "Split 99 images into 79 train, 10 val,10 test examples.\n",
      "Moving pug pictures.\n",
      "Split 94 images into 75 train, 9 val,10 test examples.\n",
      "Moving malinois pictures.\n",
      "Split 73 images into 58 train, 7 val,8 test examples.\n",
      "Moving komondor pictures.\n",
      "Split 67 images into 53 train, 7 val,7 test examples.\n",
      "Moving airedale pictures.\n",
      "Split 107 images into 85 train, 11 val,11 test examples.\n",
      "Moving leonberg pictures.\n",
      "Split 106 images into 84 train, 11 val,11 test examples.\n",
      "Moving mexican_hairless pictures.\n",
      "Split 80 images into 64 train, 8 val,8 test examples.\n",
      "Moving bull_mastiff pictures.\n",
      "Split 75 images into 60 train, 7 val,8 test examples.\n",
      "Moving bernese_mountain_dog pictures.\n",
      "Split 114 images into 91 train, 11 val,12 test examples.\n",
      "Moving american_staffordshire_terrier pictures.\n",
      "Split 74 images into 59 train, 7 val,8 test examples.\n",
      "Moving lhasa pictures.\n",
      "Split 90 images into 72 train, 9 val,9 test examples.\n",
      "Moving cardigan pictures.\n",
      "Split 76 images into 60 train, 8 val,8 test examples.\n",
      "Moving italian_greyhound pictures.\n",
      "Split 92 images into 73 train, 9 val,10 test examples.\n",
      "Moving clumber pictures.\n",
      "Split 80 images into 64 train, 8 val,8 test examples.\n",
      "Moving scotch_terrier pictures.\n",
      "Split 82 images into 65 train, 8 val,9 test examples.\n",
      "Moving afghan_hound pictures.\n",
      "Split 116 images into 92 train, 12 val,12 test examples.\n",
      "Moving old_english_sheepdog pictures.\n",
      "Split 87 images into 69 train, 9 val,9 test examples.\n",
      "Moving saint_bernard pictures.\n",
      "Split 84 images into 67 train, 8 val,9 test examples.\n",
      "Moving miniature_pinscher pictures.\n",
      "Split 102 images into 81 train, 10 val,11 test examples.\n",
      "Moving eskimo_dog pictures.\n",
      "Split 66 images into 52 train, 7 val,7 test examples.\n",
      "Moving irish_wolfhound pictures.\n",
      "Split 101 images into 80 train, 10 val,11 test examples.\n",
      "Moving brabancon_griffon pictures.\n",
      "Split 67 images into 53 train, 7 val,7 test examples.\n",
      "Moving toy_terrier pictures.\n",
      "Split 79 images into 63 train, 8 val,8 test examples.\n",
      "Moving chow pictures.\n",
      "Split 93 images into 74 train, 9 val,10 test examples.\n",
      "Moving flat-coated_retriever pictures.\n",
      "Split 72 images into 57 train, 7 val,8 test examples.\n",
      "Moving norwich_terrier pictures.\n",
      "Split 78 images into 62 train, 8 val,8 test examples.\n",
      "Moving soft-coated_wheaten_terrier pictures.\n",
      "Split 71 images into 56 train, 7 val,8 test examples.\n",
      "Moving staffordshire_bullterrier pictures.\n",
      "Split 79 images into 63 train, 8 val,8 test examples.\n",
      "Moving english_foxhound pictures.\n",
      "Split 86 images into 68 train, 9 val,9 test examples.\n",
      "Moving gordon_setter pictures.\n",
      "Split 81 images into 64 train, 8 val,9 test examples.\n",
      "Moving siberian_husky pictures.\n",
      "Split 95 images into 76 train, 9 val,10 test examples.\n",
      "Moving newfoundland pictures.\n",
      "Split 91 images into 72 train, 9 val,10 test examples.\n",
      "Moving briard pictures.\n",
      "Split 66 images into 52 train, 7 val,7 test examples.\n",
      "Moving chesapeake_bay_retriever pictures.\n",
      "Split 83 images into 66 train, 8 val,9 test examples.\n",
      "Moving dandie_dinmont pictures.\n",
      "Split 89 images into 71 train, 9 val,9 test examples.\n",
      "Moving great_pyrenees pictures.\n",
      "Split 111 images into 88 train, 11 val,12 test examples.\n",
      "Moving beagle pictures.\n",
      "Split 105 images into 84 train, 10 val,11 test examples.\n",
      "Moving vizsla pictures.\n",
      "Split 70 images into 56 train, 7 val,7 test examples.\n",
      "Moving west_highland_white_terrier pictures.\n",
      "Split 81 images into 64 train, 8 val,9 test examples.\n"
     ]
    },
    {
     "name": "stdout",
     "output_type": "stream",
     "text": [
      "Moving kerry_blue_terrier pictures.\n",
      "Split 82 images into 65 train, 8 val,9 test examples.\n",
      "Moving whippet pictures.\n",
      "Split 95 images into 76 train, 9 val,10 test examples.\n",
      "Moving sealyham_terrier pictures.\n",
      "Split 88 images into 70 train, 9 val,9 test examples.\n",
      "Moving standard_poodle pictures.\n",
      "Split 79 images into 63 train, 8 val,8 test examples.\n",
      "Moving keeshond pictures.\n",
      "Split 81 images into 64 train, 8 val,9 test examples.\n",
      "Moving japanese_spaniel pictures.\n",
      "Split 105 images into 84 train, 10 val,11 test examples.\n",
      "Moving miniature_poodle pictures.\n",
      "Split 79 images into 63 train, 8 val,8 test examples.\n",
      "Moving pomeranian pictures.\n",
      "Split 111 images into 88 train, 11 val,12 test examples.\n",
      "Moving curly-coated_retriever pictures.\n",
      "Split 72 images into 57 train, 7 val,8 test examples.\n",
      "Moving yorkshire_terrier pictures.\n",
      "Split 82 images into 65 train, 8 val,9 test examples.\n",
      "Moving pembroke pictures.\n",
      "Split 92 images into 73 train, 9 val,10 test examples.\n",
      "Moving great_dane pictures.\n",
      "Split 75 images into 60 train, 7 val,8 test examples.\n",
      "Moving blenheim_spaniel pictures.\n",
      "Split 102 images into 81 train, 10 val,11 test examples.\n",
      "Moving silky_terrier pictures.\n",
      "Split 90 images into 72 train, 9 val,9 test examples.\n",
      "Moving sussex_spaniel pictures.\n",
      "Split 78 images into 62 train, 8 val,8 test examples.\n",
      "Moving german_short-haired_pointer pictures.\n",
      "Split 75 images into 60 train, 7 val,8 test examples.\n",
      "Moving french_bulldog pictures.\n",
      "Split 70 images into 56 train, 7 val,7 test examples.\n",
      "Moving bouvier_des_flandres pictures.\n",
      "Split 86 images into 68 train, 9 val,9 test examples.\n",
      "Moving tibetan_mastiff pictures.\n",
      "Split 69 images into 55 train, 7 val,7 test examples.\n",
      "Moving english_springer pictures.\n",
      "Split 75 images into 60 train, 7 val,8 test examples.\n",
      "Moving cocker_spaniel pictures.\n",
      "Split 74 images into 59 train, 7 val,8 test examples.\n",
      "Moving rottweiler pictures.\n",
      "Split 76 images into 60 train, 8 val,8 test examples.\n"
     ]
    }
   ],
   "source": [
    "import numpy as np\n",
    "import os, shutil\n",
    "\n",
    "old_dir = 'dog-breed-identification/train/'\n",
    "\n",
    "new_root_dir = 'data_org/'\n",
    "os.mkdir(new_root_dir)\n",
    "\n",
    "dir_names = ['train','val','test']\n",
    "for d in dir_names:\n",
    "    new_dir = os.path.join(new_root_dir,d)\n",
    "    os.mkdir(new_dir)\n",
    "\n",
    "for breed in df.breed.unique():\n",
    "    print('Moving {} pictures.'.format(breed))\n",
    "    for d in dir_names:\n",
    "        new_dir = os.path.join(new_root_dir,d,breed)\n",
    "        os.mkdir(new_dir)\n",
    "    temp = df[df.breed == breed]\n",
    "    train,val,test = np.split(temp.sample(frac=1),[int(.8*len(temp)), int(.9*len(temp))])\n",
    "    print(f'Split {len(temp)} images into {len(train)} train, {len(val)} val,{len(test)} test examples.')\n",
    "    \n",
    "    for i, temp in enumerate([train, val, test]):\n",
    "        for row in temp.index:\n",
    "            filename = temp['id'][row]+'.jpg'\n",
    "            origin = os.path.join(old_dir+filename)\n",
    "            destination = os.path.join(new_root_dir+dir_names[i]+'/'+breed+'/'+filename)\n",
    "            shutil.copy(origin,destination)"
   ]
  },
  {
   "cell_type": "code",
   "execution_count": 19,
   "metadata": {},
   "outputs": [
    {
     "name": "stdout",
     "output_type": "stream",
     "text": [
      "Found 8127 images belonging to 120 classes.\n",
      "Found 1017 images belonging to 120 classes.\n"
     ]
    }
   ],
   "source": [
    "# Your code here; transform the image files and then load them into Keras as tensors \n",
    "# (be sure to perform a train-val-test split)\n",
    "from keras.preprocessing.image import ImageDataGenerator\n",
    "train_dir = 'data_org/train/'\n",
    "val_dir = 'data_org/val/'\n",
    "test_dir = 'data_org/test/'\n",
    "\n",
    "train_datagen = ImageDataGenerator(rescale=1./255)\n",
    "test_datagen = ImageDataGenerator(rescale=1./255)\n",
    "\n",
    "train_generator=train_datagen.flow_from_directory(train_dir,\n",
    "                                                 target_size=(150,150),\n",
    "                                                 batch_size=20,\n",
    "                                                 class_mode='categorical')\n",
    "\n",
    "val_generator = test_datagen.flow_from_directory(val_dir,\n",
    "                                                target_size=(150,150),\n",
    "                                                 batch_size=20,\n",
    "                                                 class_mode='categorical')"
   ]
  },
  {
   "cell_type": "code",
   "execution_count": 20,
   "metadata": {},
   "outputs": [
    {
     "data": {
      "text/plain": [
       "{'affenpinscher': 0,\n",
       " 'afghan_hound': 1,\n",
       " 'african_hunting_dog': 2,\n",
       " 'airedale': 3,\n",
       " 'american_staffordshire_terrier': 4,\n",
       " 'appenzeller': 5,\n",
       " 'australian_terrier': 6,\n",
       " 'basenji': 7,\n",
       " 'basset': 8,\n",
       " 'beagle': 9,\n",
       " 'bedlington_terrier': 10,\n",
       " 'bernese_mountain_dog': 11,\n",
       " 'black-and-tan_coonhound': 12,\n",
       " 'blenheim_spaniel': 13,\n",
       " 'bloodhound': 14,\n",
       " 'bluetick': 15,\n",
       " 'border_collie': 16,\n",
       " 'border_terrier': 17,\n",
       " 'borzoi': 18,\n",
       " 'boston_bull': 19,\n",
       " 'bouvier_des_flandres': 20,\n",
       " 'boxer': 21,\n",
       " 'brabancon_griffon': 22,\n",
       " 'briard': 23,\n",
       " 'brittany_spaniel': 24,\n",
       " 'bull_mastiff': 25,\n",
       " 'cairn': 26,\n",
       " 'cardigan': 27,\n",
       " 'chesapeake_bay_retriever': 28,\n",
       " 'chihuahua': 29,\n",
       " 'chow': 30,\n",
       " 'clumber': 31,\n",
       " 'cocker_spaniel': 32,\n",
       " 'collie': 33,\n",
       " 'curly-coated_retriever': 34,\n",
       " 'dandie_dinmont': 35,\n",
       " 'dhole': 36,\n",
       " 'dingo': 37,\n",
       " 'doberman': 38,\n",
       " 'english_foxhound': 39,\n",
       " 'english_setter': 40,\n",
       " 'english_springer': 41,\n",
       " 'entlebucher': 42,\n",
       " 'eskimo_dog': 43,\n",
       " 'flat-coated_retriever': 44,\n",
       " 'french_bulldog': 45,\n",
       " 'german_shepherd': 46,\n",
       " 'german_short-haired_pointer': 47,\n",
       " 'giant_schnauzer': 48,\n",
       " 'golden_retriever': 49,\n",
       " 'gordon_setter': 50,\n",
       " 'great_dane': 51,\n",
       " 'great_pyrenees': 52,\n",
       " 'greater_swiss_mountain_dog': 53,\n",
       " 'groenendael': 54,\n",
       " 'ibizan_hound': 55,\n",
       " 'irish_setter': 56,\n",
       " 'irish_terrier': 57,\n",
       " 'irish_water_spaniel': 58,\n",
       " 'irish_wolfhound': 59,\n",
       " 'italian_greyhound': 60,\n",
       " 'japanese_spaniel': 61,\n",
       " 'keeshond': 62,\n",
       " 'kelpie': 63,\n",
       " 'kerry_blue_terrier': 64,\n",
       " 'komondor': 65,\n",
       " 'kuvasz': 66,\n",
       " 'labrador_retriever': 67,\n",
       " 'lakeland_terrier': 68,\n",
       " 'leonberg': 69,\n",
       " 'lhasa': 70,\n",
       " 'malamute': 71,\n",
       " 'malinois': 72,\n",
       " 'maltese_dog': 73,\n",
       " 'mexican_hairless': 74,\n",
       " 'miniature_pinscher': 75,\n",
       " 'miniature_poodle': 76,\n",
       " 'miniature_schnauzer': 77,\n",
       " 'newfoundland': 78,\n",
       " 'norfolk_terrier': 79,\n",
       " 'norwegian_elkhound': 80,\n",
       " 'norwich_terrier': 81,\n",
       " 'old_english_sheepdog': 82,\n",
       " 'otterhound': 83,\n",
       " 'papillon': 84,\n",
       " 'pekinese': 85,\n",
       " 'pembroke': 86,\n",
       " 'pomeranian': 87,\n",
       " 'pug': 88,\n",
       " 'redbone': 89,\n",
       " 'rhodesian_ridgeback': 90,\n",
       " 'rottweiler': 91,\n",
       " 'saint_bernard': 92,\n",
       " 'saluki': 93,\n",
       " 'samoyed': 94,\n",
       " 'schipperke': 95,\n",
       " 'scotch_terrier': 96,\n",
       " 'scottish_deerhound': 97,\n",
       " 'sealyham_terrier': 98,\n",
       " 'shetland_sheepdog': 99,\n",
       " 'shih-tzu': 100,\n",
       " 'siberian_husky': 101,\n",
       " 'silky_terrier': 102,\n",
       " 'soft-coated_wheaten_terrier': 103,\n",
       " 'staffordshire_bullterrier': 104,\n",
       " 'standard_poodle': 105,\n",
       " 'standard_schnauzer': 106,\n",
       " 'sussex_spaniel': 107,\n",
       " 'tibetan_mastiff': 108,\n",
       " 'tibetan_terrier': 109,\n",
       " 'toy_poodle': 110,\n",
       " 'toy_terrier': 111,\n",
       " 'vizsla': 112,\n",
       " 'walker_hound': 113,\n",
       " 'weimaraner': 114,\n",
       " 'welsh_springer_spaniel': 115,\n",
       " 'west_highland_white_terrier': 116,\n",
       " 'whippet': 117,\n",
       " 'wire-haired_fox_terrier': 118,\n",
       " 'yorkshire_terrier': 119}"
      ]
     },
     "execution_count": 20,
     "metadata": {},
     "output_type": "execute_result"
    }
   ],
   "source": [
    "train_generator.class_indices"
   ]
  },
  {
   "cell_type": "markdown",
   "metadata": {},
   "source": [
    "## Optional: Build a Baseline CNN\n",
    "\n",
    "This is an optional step. Adapting a pretrained model will produce better results, but it may be interesting to create a CNN from scratch as a baseline. If you wish to, do so here."
   ]
  },
  {
   "cell_type": "code",
   "execution_count": 21,
   "metadata": {},
   "outputs": [],
   "source": [
    "# Create a baseline CNN model\n",
    "import datetime\n",
    "original_start = datetime.datetime.now()\n",
    "start = datetime.datetime.now()"
   ]
  },
  {
   "cell_type": "code",
   "execution_count": 25,
   "metadata": {},
   "outputs": [
    {
     "name": "stdout",
     "output_type": "stream",
     "text": [
      "WARNING:tensorflow:From /Users/feraguilari/anaconda3/lib/python3.7/site-packages/tensorflow/python/framework/op_def_library.py:263: colocate_with (from tensorflow.python.framework.ops) is deprecated and will be removed in a future version.\n",
      "Instructions for updating:\n",
      "Colocations handled automatically by placer.\n",
      "WARNING:tensorflow:From /Users/feraguilari/anaconda3/lib/python3.7/site-packages/tensorflow/python/ops/math_ops.py:3066: to_int32 (from tensorflow.python.ops.math_ops) is deprecated and will be removed in a future version.\n",
      "Instructions for updating:\n",
      "Use tf.cast instead.\n",
      "Epoch 1/30\n",
      "100/100 [==============================] - 64s 636ms/step - loss: 4.7859 - acc: 0.0095 - val_loss: 4.7845 - val_acc: 0.0080\n",
      "Epoch 2/30\n",
      "100/100 [==============================] - 60s 599ms/step - loss: 4.7868 - acc: 0.0140 - val_loss: 4.7817 - val_acc: 0.0130\n",
      "Epoch 3/30\n",
      "100/100 [==============================] - 59s 594ms/step - loss: 4.7847 - acc: 0.0170 - val_loss: 4.7802 - val_acc: 0.0130\n",
      "Epoch 4/30\n",
      "100/100 [==============================] - 61s 610ms/step - loss: 4.7865 - acc: 0.0065 - val_loss: 4.7806 - val_acc: 0.0120\n",
      "Epoch 5/30\n",
      "100/100 [==============================] - 63s 625ms/step - loss: 4.7751 - acc: 0.0110 - val_loss: 4.7614 - val_acc: 0.0110\n",
      "Epoch 6/30\n",
      "100/100 [==============================] - 62s 619ms/step - loss: 4.7477 - acc: 0.0145 - val_loss: 4.7278 - val_acc: 0.0201\n",
      "Epoch 7/30\n",
      "100/100 [==============================] - 62s 623ms/step - loss: 4.6967 - acc: 0.0155 - val_loss: 4.6794 - val_acc: 0.0231\n",
      "Epoch 8/30\n",
      "100/100 [==============================] - 62s 622ms/step - loss: 4.6698 - acc: 0.0195 - val_loss: 4.6486 - val_acc: 0.0211\n",
      "Epoch 9/30\n",
      "100/100 [==============================] - 63s 626ms/step - loss: 4.6214 - acc: 0.0285 - val_loss: 4.6022 - val_acc: 0.0241\n",
      "Epoch 10/30\n",
      "100/100 [==============================] - 63s 626ms/step - loss: 4.5998 - acc: 0.0290 - val_loss: 4.6813 - val_acc: 0.0231\n",
      "Epoch 11/30\n",
      "100/100 [==============================] - 63s 630ms/step - loss: 4.5875 - acc: 0.0225 - val_loss: 4.5756 - val_acc: 0.0221\n",
      "Epoch 12/30\n",
      "100/100 [==============================] - 62s 621ms/step - loss: 4.5605 - acc: 0.0230 - val_loss: 4.5282 - val_acc: 0.0361\n",
      "Epoch 13/30\n",
      "100/100 [==============================] - 61s 612ms/step - loss: 4.5392 - acc: 0.0280 - val_loss: 4.5421 - val_acc: 0.0301\n",
      "Epoch 14/30\n",
      "100/100 [==============================] - 61s 608ms/step - loss: 4.5081 - acc: 0.0330 - val_loss: 4.5169 - val_acc: 0.0261\n",
      "Epoch 15/30\n",
      "100/100 [==============================] - 61s 612ms/step - loss: 4.4760 - acc: 0.0345 - val_loss: 4.4635 - val_acc: 0.0281\n",
      "Epoch 16/30\n",
      "100/100 [==============================] - 61s 614ms/step - loss: 4.4668 - acc: 0.0255 - val_loss: 4.5145 - val_acc: 0.0401\n",
      "Epoch 17/30\n",
      "100/100 [==============================] - 61s 614ms/step - loss: 4.3824 - acc: 0.0395 - val_loss: 4.4264 - val_acc: 0.0291\n",
      "Epoch 18/30\n",
      "100/100 [==============================] - 61s 611ms/step - loss: 4.4234 - acc: 0.0435 - val_loss: 4.4273 - val_acc: 0.0341\n",
      "Epoch 19/30\n",
      "100/100 [==============================] - 61s 611ms/step - loss: 4.3304 - acc: 0.0415 - val_loss: 4.4055 - val_acc: 0.0431\n",
      "Epoch 20/30\n",
      "100/100 [==============================] - 62s 615ms/step - loss: 4.3548 - acc: 0.0405 - val_loss: 4.4121 - val_acc: 0.0421\n",
      "Epoch 21/30\n",
      "100/100 [==============================] - 61s 613ms/step - loss: 4.3023 - acc: 0.0480 - val_loss: 4.3601 - val_acc: 0.0502\n",
      "Epoch 22/30\n",
      "100/100 [==============================] - 61s 609ms/step - loss: 4.2869 - acc: 0.0550 - val_loss: 4.3525 - val_acc: 0.0522\n",
      "Epoch 23/30\n",
      "100/100 [==============================] - 62s 618ms/step - loss: 4.2631 - acc: 0.0510 - val_loss: 4.3199 - val_acc: 0.0572\n",
      "Epoch 24/30\n",
      "100/100 [==============================] - 69s 686ms/step - loss: 4.2748 - acc: 0.0540 - val_loss: 4.4211 - val_acc: 0.0461\n",
      "Epoch 25/30\n",
      "100/100 [==============================] - 65s 653ms/step - loss: 4.2194 - acc: 0.0550 - val_loss: 4.3455 - val_acc: 0.0491\n",
      "Epoch 26/30\n",
      "100/100 [==============================] - 68s 676ms/step - loss: 4.2079 - acc: 0.0570 - val_loss: 4.3439 - val_acc: 0.0502\n",
      "Epoch 27/30\n",
      "100/100 [==============================] - 67s 667ms/step - loss: 4.2247 - acc: 0.0660 - val_loss: 4.3189 - val_acc: 0.0582\n",
      "Epoch 28/30\n",
      "100/100 [==============================] - 63s 635ms/step - loss: 4.2121 - acc: 0.0585 - val_loss: 4.3047 - val_acc: 0.0582\n",
      "Epoch 29/30\n",
      "100/100 [==============================] - 62s 618ms/step - loss: 4.1441 - acc: 0.0790 - val_loss: 4.3359 - val_acc: 0.0431\n",
      "Epoch 30/30\n",
      "100/100 [==============================] - 64s 640ms/step - loss: 4.1144 - acc: 0.0615 - val_loss: 4.3151 - val_acc: 0.0742\n"
     ]
    }
   ],
   "source": [
    "from keras import layers\n",
    "from keras import models\n",
    "from keras import optimizers\n",
    "\n",
    "model = models.Sequential()\n",
    "model.add(layers.Conv2D(32, (3, 3), activation='relu',\n",
    "                        input_shape=(150, 150, 3)))\n",
    "model.add(layers.MaxPooling2D((2, 2)))\n",
    "model.add(layers.Conv2D(64, (3, 3), activation='relu'))\n",
    "model.add(layers.MaxPooling2D((2, 2)))\n",
    "model.add(layers.Conv2D(128, (3, 3), activation='relu'))\n",
    "model.add(layers.MaxPooling2D((2, 2)))\n",
    "model.add(layers.Conv2D(128, (3, 3), activation='relu'))\n",
    "model.add(layers.MaxPooling2D((2, 2)))\n",
    "model.add(layers.Flatten())\n",
    "model.add(layers.Dense(64, activation='relu'))\n",
    "model.add(layers.Dense(128, activation='relu'))\n",
    "model.add(layers.Dense(256, activation='relu'))\n",
    "model.add(layers.Dense(512, activation='relu'))\n",
    "model.add(layers.Dense(120, activation='sigmoid'))\n",
    "\n",
    "model.compile(loss='categorical_crossentropy',\n",
    "             optimizer=optimizers.RMSprop(lr=1e-4),\n",
    "             metrics=['acc'])\n",
    "\n",
    "history = model.fit_generator(train_generator, steps_per_epoch=100,epochs=30,\n",
    "                             validation_data = val_generator, validation_steps=50)"
   ]
  },
  {
   "cell_type": "code",
   "execution_count": 26,
   "metadata": {},
   "outputs": [
    {
     "data": {
      "image/png": "[encoded data removed]",
      "text/plain": [
       "<Figure size 432x288 with 1 Axes>"
      ]
     },
     "metadata": {
      "needs_background": "light"
     },
     "output_type": "display_data"
    },
    {
     "data": {
      "image/png": "[encoded data removed]",
      "text/plain": [
       "<Figure size 432x288 with 1 Axes>"
      ]
     },
     "metadata": {
      "needs_background": "light"
     },
     "output_type": "display_data"
    }
   ],
   "source": [
    "import matplotlib.pyplot as plt\n",
    "%matplotlib inline \n",
    "\n",
    "acc = history.history['acc']\n",
    "val_acc = history.history['val_acc']\n",
    "loss = history.history['loss']\n",
    "val_loss = history.history['val_loss']\n",
    "epochs = range(len(acc))\n",
    "plt.plot(epochs, acc, 'bo', label='Training acc')\n",
    "plt.plot(epochs, val_acc, 'b', label='Validation acc')\n",
    "plt.title('Training and validation accuracy')\n",
    "plt.legend()\n",
    "plt.figure()\n",
    "plt.plot(epochs, loss, 'bo', label='Training loss')\n",
    "plt.plot(epochs, val_loss, 'b', label='Validation loss')\n",
    "plt.title('Training and validation loss')\n",
    "plt.legend()\n",
    "plt.show()"
   ]
  },
  {
   "cell_type": "code",
   "execution_count": 27,
   "metadata": {},
   "outputs": [
    {
     "name": "stdout",
     "output_type": "stream",
     "text": [
      "Training took a total of 0:36:12.037720\n"
     ]
    }
   ],
   "source": [
    "end = datetime.datetime.now()\n",
    "elapsed = end - start\n",
    "print('Training took a total of {}'.format(elapsed))"
   ]
  },
  {
   "cell_type": "code",
   "execution_count": 28,
   "metadata": {},
   "outputs": [],
   "source": [
    "model.save('Baseline_CNN_run2.h5')"
   ]
  },
  {
   "cell_type": "code",
   "execution_count": 29,
   "metadata": {},
   "outputs": [
    {
     "name": "stdout",
     "output_type": "stream",
     "text": [
      "Found 1078 images belonging to 120 classes.\n",
      "Generated 1078 predictions\n",
      "test acc: 0.05194805271522676\n"
     ]
    }
   ],
   "source": [
    "test_generator = test_datagen.flow_from_directory(\n",
    "        test_dir,\n",
    "        target_size=(150, 150),\n",
    "        batch_size=20,\n",
    "        class_mode='categorical',\n",
    "        shuffle=False)\n",
    "\n",
    "test_loss, test_acc = model.evaluate_generator(test_generator, steps=54)\n",
    "y_hat_test = model.predict_generator(test_generator, steps=54)\n",
    "print('Generated {} predictions'.format(len(y_hat_test)))\n",
    "print('test acc:', test_acc)"
   ]
  },
  {
   "cell_type": "code",
   "execution_count": 30,
   "metadata": {},
   "outputs": [
    {
     "name": "stdout",
     "output_type": "stream",
     "text": [
      "(1078,)\n"
     ]
    },
    {
     "data": {
      "text/plain": [
       "array([54, 78,  0, 20, 92])"
      ]
     },
     "execution_count": 30,
     "metadata": {},
     "output_type": "execute_result"
    }
   ],
   "source": [
    "import numpy as np\n",
    "y_hat_test_vect = np.argmax(y_hat_test, axis=1)\n",
    "print(y_hat_test_vect.shape)\n",
    "y_hat_test_vect[:5]"
   ]
  },
  {
   "cell_type": "code",
   "execution_count": 31,
   "metadata": {},
   "outputs": [
    {
     "name": "stdout",
     "output_type": "stream",
     "text": [
      "(1078,)\n"
     ]
    },
    {
     "data": {
      "text/plain": [
       "array([0, 0, 0, 0, 0], dtype=int32)"
      ]
     },
     "execution_count": 31,
     "metadata": {},
     "output_type": "execute_result"
    }
   ],
   "source": [
    "y_true = test_generator.classes\n",
    "print(y_true.shape)\n",
    "y_true[:5]"
   ]
  },
  {
   "cell_type": "code",
   "execution_count": 32,
   "metadata": {},
   "outputs": [
    {
     "name": "stdout",
     "output_type": "stream",
     "text": [
      "56 matches for 5.19% accuracy.\n"
     ]
    }
   ],
   "source": [
    "matches = 0\n",
    "for act, pred in list(zip(y_true, y_hat_test_vect)):\n",
    "    if act == pred:\n",
    "        matches += 1\n",
    "    else:\n",
    "        continue\n",
    "acc = matches / len(y_true)\n",
    "print('{} matches for {}% accuracy.'.format(matches, round(acc*100, 2)))"
   ]
  },
  {
   "cell_type": "markdown",
   "metadata": {},
   "source": [
    "## Loading a Pretrained CNN"
   ]
  },
  {
   "cell_type": "markdown",
   "metadata": {},
   "source": [
    "## Feature Engineering with the Pretrained Model\n",
    "\n",
    "Now that you've loaded a pretrained model, it's time to adapt that convolutional base and add some fully connected layers on top in order to build a classifier from these feature maps."
   ]
  },
  {
   "cell_type": "code",
   "execution_count": 33,
   "metadata": {},
   "outputs": [
    {
     "name": "stdout",
     "output_type": "stream",
     "text": [
      "vgg19 False\n",
      "flatten_2 True\n",
      "dense_6 True\n",
      "dense_7 True\n",
      "dense_8 True\n",
      "dense_9 True\n",
      "dense_10 True\n",
      "10\n",
      "Model: \"sequential_2\"\n",
      "_________________________________________________________________\n",
      "Layer (type)                 Output Shape              Param #   \n",
      "=================================================================\n",
      "vgg19 (Model)                (None, 7, 7, 512)         20024384  \n",
      "_________________________________________________________________\n",
      "flatten_2 (Flatten)          (None, 25088)             0         \n",
      "_________________________________________________________________\n",
      "dense_6 (Dense)              (None, 64)                1605696   \n",
      "_________________________________________________________________\n",
      "dense_7 (Dense)              (None, 128)               8320      \n",
      "_________________________________________________________________\n",
      "dense_8 (Dense)              (None, 256)               33024     \n",
      "_________________________________________________________________\n",
      "dense_9 (Dense)              (None, 128)               32896     \n",
      "_________________________________________________________________\n",
      "dense_10 (Dense)             (None, 120)               15480     \n",
      "=================================================================\n",
      "Total params: 21,719,800\n",
      "Trainable params: 1,695,416\n",
      "Non-trainable params: 20,024,384\n",
      "_________________________________________________________________\n"
     ]
    }
   ],
   "source": [
    "# Your code here; add fully connected layers on top of the convolutional base\n",
    "from keras.applications import VGG19\n",
    "cnn_base = VGG19(weights='imagenet',\n",
    "                 include_top=False,\n",
    "                 input_shape=(240, 240, 3))\n",
    "\n",
    "#Define Model Architecture\n",
    "model = models.Sequential()\n",
    "model.add(cnn_base)\n",
    "model.add(layers.Flatten())\n",
    "model.add(layers.Dense(64, activation='relu'))\n",
    "model.add(layers.Dense(128, activation='relu'))\n",
    "model.add(layers.Dense(256, activation='relu'))\n",
    "model.add(layers.Dense(128, activation='relu'))\n",
    "model.add(layers.Dense(120, activation='sigmoid'))\n",
    "\n",
    "cnn_base.trainable = False\n",
    "\n",
    "#You can check whether a layer is trainable (or alter its setting) through the layer.trainable attribute:\n",
    "for layer in model.layers:\n",
    "    print(layer.name, layer.trainable)\n",
    "    \n",
    "#Similarly, we can check how many trainable weights are in the model:\n",
    "print(len(model.trainable_weights))\n",
    "model.summary()"
   ]
  },
  {
   "cell_type": "code",
   "execution_count": 34,
   "metadata": {},
   "outputs": [
    {
     "name": "stdout",
     "output_type": "stream",
     "text": [
      "Found 8127 images belonging to 120 classes.\n",
      "Found 1017 images belonging to 120 classes.\n",
      "Found 1078 images belonging to 120 classes.\n",
      "Epoch 1/10\n",
      "27/27 [==============================] - 312s 12s/step - loss: 4.7873 - acc: 0.0019 - val_loss: 4.7885 - val_acc: 0.0100\n",
      "Epoch 2/10\n",
      "27/27 [==============================] - 306s 11s/step - loss: 4.7897 - acc: 0.0074 - val_loss: 4.7888 - val_acc: 0.0050\n",
      "Epoch 3/10\n",
      "27/27 [==============================] - 306s 11s/step - loss: 4.7896 - acc: 0.0093 - val_loss: 4.7885 - val_acc: 0.0000e+00\n",
      "Epoch 4/10\n",
      "27/27 [==============================] - 302s 11s/step - loss: 4.7886 - acc: 0.0074 - val_loss: 4.7853 - val_acc: 0.0100\n",
      "Epoch 5/10\n",
      "27/27 [==============================] - 301s 11s/step - loss: 4.7858 - acc: 0.0093 - val_loss: 4.7932 - val_acc: 0.0200\n",
      "Epoch 6/10\n",
      "27/27 [==============================] - 297s 11s/step - loss: 4.7899 - acc: 0.0074 - val_loss: 4.7831 - val_acc: 0.0102\n",
      "Epoch 7/10\n",
      "27/27 [==============================] - 295s 11s/step - loss: 4.7866 - acc: 0.0056 - val_loss: 4.7871 - val_acc: 0.0100\n",
      "Epoch 8/10\n",
      "27/27 [==============================] - 291s 11s/step - loss: 4.7891 - acc: 0.0148 - val_loss: 4.7819 - val_acc: 0.0000e+00\n",
      "Epoch 9/10\n",
      "27/27 [==============================] - 297s 11s/step - loss: 4.7872 - acc: 0.0093 - val_loss: 4.7917 - val_acc: 0.0150\n",
      "Epoch 10/10\n",
      "27/27 [==============================] - 297s 11s/step - loss: 4.7882 - acc: 0.0074 - val_loss: 4.7867 - val_acc: 0.0000e+00\n"
     ]
    }
   ],
   "source": [
    "# Preprocessing/Problem Setup\n",
    "train_dir = 'data_org/train'\n",
    "validation_dir = 'data_org/val/'\n",
    "test_dir = 'data_org/test/'\n",
    "\n",
    "\n",
    "# Define Initial Parameters (same as previous code block)\n",
    "datagen = ImageDataGenerator(rescale=1./255) \n",
    "batch_size = 10\n",
    "\n",
    "# get all the data in the directory split/train (542 images), and reshape them\n",
    "train_datagen = ImageDataGenerator(\n",
    "      rescale=1./255,\n",
    "      rotation_range=40,\n",
    "      width_shift_range=0.2,\n",
    "      height_shift_range=0.2,\n",
    "      shear_range=0.2,\n",
    "      zoom_range=0.2,\n",
    "      horizontal_flip=True,\n",
    "      fill_mode='nearest')\n",
    "\n",
    "train_generator = train_datagen.flow_from_directory(\n",
    "        train_dir, \n",
    "        target_size=(240, 240), \n",
    "        batch_size= 20,\n",
    "        class_mode= 'categorical') \n",
    "\n",
    "# get all the data in the directory split/validation (200 images), and reshape them\n",
    "val_generator = ImageDataGenerator(rescale=1./255).flow_from_directory(\n",
    "        validation_dir, \n",
    "        target_size=(240, 240), \n",
    "        batch_size = 20,\n",
    "        class_mode= 'categorical')\n",
    "\n",
    "# get all the data in the directory split/test (180 images), and reshape them\n",
    "test_generator = ImageDataGenerator(rescale=1./255).flow_from_directory(\n",
    "        test_dir, \n",
    "        target_size=(240, 240), \n",
    "        batch_size = 180,\n",
    "        class_mode= 'categorical',\n",
    "        shuffle=False)\n",
    "\n",
    "test_images, test_labels = next(test_generator)\n",
    "\n",
    "\n",
    "# Compilation\n",
    "model.compile(loss='categorical_crossentropy',\n",
    "              optimizer=optimizers.RMSprop(lr=2e-5),\n",
    "              metrics=['acc'])\n",
    "\n",
    "# Fitting the Model\n",
    "history = model.fit_generator(\n",
    "              train_generator,\n",
    "              steps_per_epoch= 27,\n",
    "              epochs = 10,\n",
    "              validation_data = val_generator,\n",
    "              validation_steps = 10)\n"
   ]
  },
  {
   "cell_type": "code",
   "execution_count": 35,
   "metadata": {},
   "outputs": [
    {
     "name": "stdout",
     "output_type": "stream",
     "text": [
      "Training took a total of 1:31:24.174460\n"
     ]
    }
   ],
   "source": [
    "end = datetime.datetime.now()\n",
    "elapsed = end - start\n",
    "print('Training took a total of {}'.format(elapsed))"
   ]
  },
  {
   "cell_type": "markdown",
   "metadata": {},
   "source": [
    "## Visualize History\n",
    "\n",
    "Now fit the model and visualize the training and validation accuracy/loss functions over successive epochs."
   ]
  },
  {
   "cell_type": "code",
   "execution_count": 36,
   "metadata": {},
   "outputs": [
    {
     "data": {
      "image/png": "[encoded data removed]",
      "text/plain": [
       "<Figure size 432x288 with 1 Axes>"
      ]
     },
     "metadata": {
      "needs_background": "light"
     },
     "output_type": "display_data"
    },
    {
     "data": {
      "image/png": "[encoded data removed]",
      "text/plain": [
       "<Figure size 432x288 with 1 Axes>"
      ]
     },
     "metadata": {
      "needs_background": "light"
     },
     "output_type": "display_data"
    }
   ],
   "source": [
    "# Your code here; visualize the training / validation history associated with fitting the model.\n",
    "import matplotlib.pyplot as plt\n",
    "%matplotlib inline \n",
    "\n",
    "acc = history.history['acc']\n",
    "val_acc = history.history['val_acc']\n",
    "loss = history.history['loss']\n",
    "val_loss = history.history['val_loss']\n",
    "epochs = range(len(acc))\n",
    "plt.plot(epochs, acc, 'bo', label='Training acc')\n",
    "plt.plot(epochs, val_acc, 'b', label='Validation acc')\n",
    "plt.title('Training and validation accuracy')\n",
    "plt.legend()\n",
    "plt.figure()\n",
    "plt.plot(epochs, loss, 'bo', label='Training loss')\n",
    "plt.plot(epochs, val_loss, 'b', label='Validation loss')\n",
    "plt.title('Training and validation loss')\n",
    "plt.legend()\n",
    "plt.show()"
   ]
  },
  {
   "cell_type": "code",
   "execution_count": 37,
   "metadata": {},
   "outputs": [],
   "source": [
    "# Save model\n",
    "model.save('vgg19_FE_AUG_10epochs.h5')"
   ]
  },
  {
   "cell_type": "code",
   "execution_count": 38,
   "metadata": {},
   "outputs": [],
   "source": [
    "import pickle\n",
    "\n",
    "with open('history_vgg19_10epochs.pickle', 'wb') as f:\n",
    "    # Pickle the 'data' dictionary using the highest protocol available.\n",
    "    pickle.dump(history, f, pickle.HIGHEST_PROTOCOL)"
   ]
  },
  {
   "cell_type": "markdown",
   "metadata": {},
   "source": [
    "## Final Model Evaluation"
   ]
  },
  {
   "cell_type": "code",
   "execution_count": 39,
   "metadata": {},
   "outputs": [
    {
     "name": "stdout",
     "output_type": "stream",
     "text": [
      "Found 1078 images belonging to 120 classes.\n",
      "Generated 1078 predictions\n",
      "test acc: 0.006493506521152432\n"
     ]
    }
   ],
   "source": [
    "# Your code here\n",
    "test_generator = test_datagen.flow_from_directory(\n",
    "        test_dir,\n",
    "        target_size=(240, 240),\n",
    "        batch_size=20,\n",
    "        class_mode='categorical',\n",
    "        shuffle=False)\n",
    "\n",
    "test_loss, test_acc = model.evaluate_generator(test_generator, steps=54)\n",
    "y_hat_test = model.predict_generator(test_generator, steps=54)\n",
    "print('Generated {} predictions'.format(len(y_hat_test)))\n",
    "print('test acc:', test_acc)"
   ]
  },
  {
   "cell_type": "markdown",
   "metadata": {},
   "source": [
    "## Summary\n",
    "\n",
    "Congratulations! In this lab, you brought all of your prior deep learning skills together from preprocessing including one-hot encoding, to adapting a pretrained model. There are always ongoing advancements in CNN architectures and best practices, but you have a solid foundation and understanding at this point."
   ]
  }
 ],
 "metadata": {
  "kernelspec": {
   "display_name": "Python 3",
   "language": "python",
   "name": "python3"
  },
  "language_info": {
   "codemirror_mode": {
    "name": "ipython",
    "version": 3
   },
   "file_extension": ".py",
   "mimetype": "text/x-python",
   "name": "python",
   "nbconvert_exporter": "python",
   "pygments_lexer": "ipython3",
   "version": "3.7.1"
  }
 },
 "nbformat": 4,
 "nbformat_minor": 2
}
